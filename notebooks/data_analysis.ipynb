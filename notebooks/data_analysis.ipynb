{
 "cells": [
  {
   "cell_type": "code",
   "execution_count": null,
   "metadata": {},
   "outputs": [],
   "source": [
    "# notebooks/data_analysis.ipynb\n",
    "import pandas as pd\n",
    "import geopandas as gpd\n",
    "import json\n",
    "\n",
    "with open('../data/wildfire_data.json', 'r') as f:\n",
    "    wildfire_data = json.load(f)\n",
    "\n",
    "# Convert to GeoDataFrame for easy manipulation\n",
    "gdf = gpd.GeoDataFrame.from_features(wildfire_data['features'])\n",
    "gdf.head()\n"
   ]
  }
 ],
 "metadata": {
  "language_info": {
   "name": "python"
  }
 },
 "nbformat": 4,
 "nbformat_minor": 2
}
