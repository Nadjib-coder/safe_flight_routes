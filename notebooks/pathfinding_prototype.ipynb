{
 "cells": [
  {
   "cell_type": "code",
   "execution_count": null,
   "metadata": {},
   "outputs": [],
   "source": [
    "# notebooks/pathfinding_prototype.ipynb\n",
    "import networkx as nx\n",
    "from shapely.geometry import Point, Polygon\n",
    "\n",
    "# Define a simple grid and some obstacles\n",
    "graph = nx.grid_2d_graph(10, 10)\n",
    "obstacles = [Point(5, 5), Point(6, 6)]\n",
    "\n",
    "for node in graph.nodes():\n",
    "    if any(obs.equals(Point(node)) for obs in obstacles):\n",
    "        graph.remove_node(node)\n",
    "\n",
    "start = (0, 0)\n",
    "goal = (9, 9)\n",
    "path = nx.astar_path(graph, start, goal)\n",
    "path\n"
   ]
  }
 ],
 "metadata": {
  "language_info": {
   "name": "python"
  }
 },
 "nbformat": 4,
 "nbformat_minor": 2
}
